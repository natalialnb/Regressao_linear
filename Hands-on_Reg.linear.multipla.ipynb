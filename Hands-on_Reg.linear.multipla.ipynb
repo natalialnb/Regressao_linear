{
 "cells": [
  {
   "cell_type": "markdown",
   "id": "ec4b1765-486e-4b02-a0ba-112813b1da98",
   "metadata": {},
   "source": [
    "# <center>Hands-On: Curso Preditiva"
   ]
  },
  {
   "cell_type": "markdown",
   "id": "fa602991-b2c9-4c81-a14e-f60018c6138c",
   "metadata": {},
   "source": [
    "### Regressão Linear Múltipla no Python:\n",
    "\n",
    "* Múltiplas variáveis explicativas;\n",
    "* Variáveis explicativas qualitativas;\n",
    "* Diagnóstico do modelo."
   ]
  },
  {
   "cell_type": "markdown",
   "id": "ec94cc92-ca5f-49a5-b673-25d3c05ec5ee",
   "metadata": {},
   "source": [
    "***Problema:*** Entender como diferentes variáveis podem influenciar o salário dos colaboradores recém-chegados."
   ]
  },
  {
   "cell_type": "markdown",
   "id": "19706402-c9b6-4837-bd59-362202c59a4f",
   "metadata": {},
   "source": [
    "## Importação de biblioteca"
   ]
  },
  {
   "cell_type": "code",
   "execution_count": 128,
   "id": "016c2474-a017-419c-be7a-cf25a254c345",
   "metadata": {},
   "outputs": [],
   "source": [
    "#pacote de manipulação de dados\n",
    "import pandas as pd\n",
    "import numpy as np\n",
    "\n",
    "#pacotes de gráficos\n",
    "import matplotlib.pyplot as plt\n",
    "import seaborn as sns\n",
    "\n",
    "#pacotes de modelagem\n",
    "import statsmodels.api as sm"
   ]
  },
  {
   "cell_type": "markdown",
   "id": "df616506-aee7-47b2-a654-24cd390a3725",
   "metadata": {},
   "source": [
    "## Importação da base de dados"
   ]
  },
  {
   "cell_type": "code",
   "execution_count": 129,
   "id": "15da92e4-534d-424a-8ab2-159abf543228",
   "metadata": {},
   "outputs": [],
   "source": [
    "df = pd.read_csv('base_funcionarios_v4.csv')"
   ]
  },
  {
   "cell_type": "code",
   "execution_count": 130,
   "id": "3e52c8a3-0a53-4515-af30-134ac06fec61",
   "metadata": {},
   "outputs": [
    {
     "data": {
      "text/html": [
       "<div>\n",
       "<style scoped>\n",
       "    .dataframe tbody tr th:only-of-type {\n",
       "        vertical-align: middle;\n",
       "    }\n",
       "\n",
       "    .dataframe tbody tr th {\n",
       "        vertical-align: top;\n",
       "    }\n",
       "\n",
       "    .dataframe thead th {\n",
       "        text-align: right;\n",
       "    }\n",
       "</style>\n",
       "<table border=\"1\" class=\"dataframe\">\n",
       "  <thead>\n",
       "    <tr style=\"text-align: right;\">\n",
       "      <th></th>\n",
       "      <th>Unnamed: 0</th>\n",
       "      <th>Salario</th>\n",
       "      <th>Anos_Educ_Superior</th>\n",
       "      <th>Tempo_Empresa</th>\n",
       "      <th>Tempo_de_Carreira</th>\n",
       "      <th>Possui_Skill_Dados</th>\n",
       "    </tr>\n",
       "  </thead>\n",
       "  <tbody>\n",
       "    <tr>\n",
       "      <th>0</th>\n",
       "      <td>0</td>\n",
       "      <td>5517.4</td>\n",
       "      <td>3</td>\n",
       "      <td>3</td>\n",
       "      <td>9.777079</td>\n",
       "      <td>Não</td>\n",
       "    </tr>\n",
       "    <tr>\n",
       "      <th>1</th>\n",
       "      <td>1</td>\n",
       "      <td>6399.9</td>\n",
       "      <td>4</td>\n",
       "      <td>6</td>\n",
       "      <td>3.765998</td>\n",
       "      <td>Não</td>\n",
       "    </tr>\n",
       "    <tr>\n",
       "      <th>2</th>\n",
       "      <td>2</td>\n",
       "      <td>6206.7</td>\n",
       "      <td>6</td>\n",
       "      <td>3</td>\n",
       "      <td>7.926264</td>\n",
       "      <td>Não</td>\n",
       "    </tr>\n",
       "    <tr>\n",
       "      <th>3</th>\n",
       "      <td>3</td>\n",
       "      <td>6060.6</td>\n",
       "      <td>4</td>\n",
       "      <td>5</td>\n",
       "      <td>2.233497</td>\n",
       "      <td>Não</td>\n",
       "    </tr>\n",
       "    <tr>\n",
       "      <th>4</th>\n",
       "      <td>4</td>\n",
       "      <td>6122.7</td>\n",
       "      <td>2</td>\n",
       "      <td>9</td>\n",
       "      <td>26.821842</td>\n",
       "      <td>Não</td>\n",
       "    </tr>\n",
       "  </tbody>\n",
       "</table>\n",
       "</div>"
      ],
      "text/plain": [
       "   Unnamed: 0  Salario  Anos_Educ_Superior  Tempo_Empresa  Tempo_de_Carreira  \\\n",
       "0           0   5517.4                   3              3           9.777079   \n",
       "1           1   6399.9                   4              6           3.765998   \n",
       "2           2   6206.7                   6              3           7.926264   \n",
       "3           3   6060.6                   4              5           2.233497   \n",
       "4           4   6122.7                   2              9          26.821842   \n",
       "\n",
       "  Possui_Skill_Dados  \n",
       "0                Não  \n",
       "1                Não  \n",
       "2                Não  \n",
       "3                Não  \n",
       "4                Não  "
      ]
     },
     "metadata": {},
     "output_type": "display_data"
    }
   ],
   "source": [
    "display(df.head(5))"
   ]
  },
  {
   "cell_type": "code",
   "execution_count": 131,
   "id": "eac1b271-2c3c-4dca-81fa-313f89fdb41c",
   "metadata": {},
   "outputs": [
    {
     "name": "stdout",
     "output_type": "stream",
     "text": [
      "<class 'pandas.core.frame.DataFrame'>\n",
      "RangeIndex: 46 entries, 0 to 45\n",
      "Data columns (total 6 columns):\n",
      " #   Column              Non-Null Count  Dtype  \n",
      "---  ------              --------------  -----  \n",
      " 0   Unnamed: 0          46 non-null     int64  \n",
      " 1   Salario             46 non-null     float64\n",
      " 2   Anos_Educ_Superior  46 non-null     int64  \n",
      " 3   Tempo_Empresa       46 non-null     int64  \n",
      " 4   Tempo_de_Carreira   46 non-null     float64\n",
      " 5   Possui_Skill_Dados  46 non-null     object \n",
      "dtypes: float64(2), int64(3), object(1)\n",
      "memory usage: 2.3+ KB\n"
     ]
    }
   ],
   "source": [
    "df.info()"
   ]
  },
  {
   "cell_type": "code",
   "execution_count": 132,
   "id": "7d5f83d5-5974-418c-9a0d-e5ab28c26309",
   "metadata": {},
   "outputs": [
    {
     "data": {
      "text/html": [
       "<div>\n",
       "<style scoped>\n",
       "    .dataframe tbody tr th:only-of-type {\n",
       "        vertical-align: middle;\n",
       "    }\n",
       "\n",
       "    .dataframe tbody tr th {\n",
       "        vertical-align: top;\n",
       "    }\n",
       "\n",
       "    .dataframe thead th {\n",
       "        text-align: right;\n",
       "    }\n",
       "</style>\n",
       "<table border=\"1\" class=\"dataframe\">\n",
       "  <thead>\n",
       "    <tr style=\"text-align: right;\">\n",
       "      <th></th>\n",
       "      <th>Unnamed: 0</th>\n",
       "      <th>Salario</th>\n",
       "      <th>Anos_Educ_Superior</th>\n",
       "      <th>Tempo_Empresa</th>\n",
       "      <th>Tempo_de_Carreira</th>\n",
       "    </tr>\n",
       "  </thead>\n",
       "  <tbody>\n",
       "    <tr>\n",
       "      <th>count</th>\n",
       "      <td>46.000000</td>\n",
       "      <td>46.000000</td>\n",
       "      <td>46.000000</td>\n",
       "      <td>46.000000</td>\n",
       "      <td>46.000000</td>\n",
       "    </tr>\n",
       "    <tr>\n",
       "      <th>mean</th>\n",
       "      <td>22.500000</td>\n",
       "      <td>6969.797826</td>\n",
       "      <td>5.065217</td>\n",
       "      <td>10.326087</td>\n",
       "      <td>21.194106</td>\n",
       "    </tr>\n",
       "    <tr>\n",
       "      <th>std</th>\n",
       "      <td>13.422618</td>\n",
       "      <td>1924.868873</td>\n",
       "      <td>2.839422</td>\n",
       "      <td>7.601328</td>\n",
       "      <td>15.869038</td>\n",
       "    </tr>\n",
       "    <tr>\n",
       "      <th>min</th>\n",
       "      <td>0.000000</td>\n",
       "      <td>4139.500000</td>\n",
       "      <td>0.000000</td>\n",
       "      <td>0.000000</td>\n",
       "      <td>-3.235467</td>\n",
       "    </tr>\n",
       "    <tr>\n",
       "      <th>25%</th>\n",
       "      <td>11.250000</td>\n",
       "      <td>5818.350000</td>\n",
       "      <td>4.000000</td>\n",
       "      <td>5.250000</td>\n",
       "      <td>9.621697</td>\n",
       "    </tr>\n",
       "    <tr>\n",
       "      <th>50%</th>\n",
       "      <td>22.500000</td>\n",
       "      <td>6394.750000</td>\n",
       "      <td>5.000000</td>\n",
       "      <td>8.500000</td>\n",
       "      <td>17.689876</td>\n",
       "    </tr>\n",
       "    <tr>\n",
       "      <th>75%</th>\n",
       "      <td>33.750000</td>\n",
       "      <td>7972.400000</td>\n",
       "      <td>6.000000</td>\n",
       "      <td>17.250000</td>\n",
       "      <td>29.773380</td>\n",
       "    </tr>\n",
       "    <tr>\n",
       "      <th>max</th>\n",
       "      <td>45.000000</td>\n",
       "      <td>12118.100000</td>\n",
       "      <td>12.000000</td>\n",
       "      <td>27.000000</td>\n",
       "      <td>67.858714</td>\n",
       "    </tr>\n",
       "  </tbody>\n",
       "</table>\n",
       "</div>"
      ],
      "text/plain": [
       "       Unnamed: 0       Salario  Anos_Educ_Superior  Tempo_Empresa  \\\n",
       "count   46.000000     46.000000           46.000000      46.000000   \n",
       "mean    22.500000   6969.797826            5.065217      10.326087   \n",
       "std     13.422618   1924.868873            2.839422       7.601328   \n",
       "min      0.000000   4139.500000            0.000000       0.000000   \n",
       "25%     11.250000   5818.350000            4.000000       5.250000   \n",
       "50%     22.500000   6394.750000            5.000000       8.500000   \n",
       "75%     33.750000   7972.400000            6.000000      17.250000   \n",
       "max     45.000000  12118.100000           12.000000      27.000000   \n",
       "\n",
       "       Tempo_de_Carreira  \n",
       "count          46.000000  \n",
       "mean           21.194106  \n",
       "std            15.869038  \n",
       "min            -3.235467  \n",
       "25%             9.621697  \n",
       "50%            17.689876  \n",
       "75%            29.773380  \n",
       "max            67.858714  "
      ]
     },
     "execution_count": 132,
     "metadata": {},
     "output_type": "execute_result"
    }
   ],
   "source": [
    "df.describe()"
   ]
  },
  {
   "cell_type": "code",
   "execution_count": 133,
   "id": "49a4a15f-9db5-4430-a6c4-448c5f73f515",
   "metadata": {},
   "outputs": [
    {
     "data": {
      "text/plain": [
       "count      46\n",
       "unique      2\n",
       "top       Não\n",
       "freq       31\n",
       "Name: Possui_Skill_Dados, dtype: object"
      ]
     },
     "execution_count": 133,
     "metadata": {},
     "output_type": "execute_result"
    }
   ],
   "source": [
    "df['Possui_Skill_Dados'].describe()"
   ]
  },
  {
   "cell_type": "code",
   "execution_count": 134,
   "id": "5a56c8de-6929-4b4b-b19d-fc2e7563c811",
   "metadata": {},
   "outputs": [],
   "source": [
    "df = df.drop(columns=['Unnamed: 0'])"
   ]
  },
  {
   "cell_type": "markdown",
   "id": "4602641c-94af-4ea5-9185-50272840228e",
   "metadata": {},
   "source": [
    "## Análise exploratória de dados"
   ]
  },
  {
   "cell_type": "code",
   "execution_count": 135,
   "id": "92a5d845-9dfb-451d-810d-177e3f2f9ef8",
   "metadata": {},
   "outputs": [
    {
     "data": {
      "image/png": "[encoded data removed]",
      "text/plain": [
       "<Figure size 1500x500 with 3 Axes>"
      ]
     },
     "metadata": {},
     "output_type": "display_data"
    }
   ],
   "source": [
    "# Gráfico de dispersão:\n",
    "fig, (ax1, ax2, ax3) = plt.subplots(1, 3, sharey=True, figsize=(15, 5))\n",
    "\n",
    "ax1.scatter(df['Anos_Educ_Superior'],\n",
    "            df['Salario']);\n",
    "\n",
    "ax2.scatter(df['Tempo_Empresa'],\n",
    "            df['Salario']);\n",
    "\n",
    "ax3.scatter(df['Tempo_de_Carreira'],\n",
    "            df['Salario']);"
   ]
  },
  {
   "cell_type": "code",
   "execution_count": 136,
   "id": "f25e4b2b-f8cb-46ea-a909-41530f9c09db",
   "metadata": {},
   "outputs": [
    {
     "data": {
      "image/png": "[encoded data removed]",
      "text/plain": [
       "<Figure size 640x480 with 1 Axes>"
      ]
     },
     "metadata": {},
     "output_type": "display_data"
    }
   ],
   "source": [
    "sns.boxplot(x=df['Possui_Skill_Dados'],\n",
    "            y=df['Salario']);"
   ]
  },
  {
   "cell_type": "markdown",
   "id": "99d99715-8b1d-4ca6-9a38-10e9c2f71b0e",
   "metadata": {},
   "source": [
    "Podemos observar que os salários de quem possui Skill em dados é maior."
   ]
  },
  {
   "cell_type": "markdown",
   "id": "cd907cd3-184b-42a5-9e96-4b7c614a9bef",
   "metadata": {},
   "source": [
    "## Preparação dos dados"
   ]
  },
  {
   "cell_type": "markdown",
   "id": "59a526fd-b2b2-4e16-bfba-ca84aff0b66e",
   "metadata": {},
   "source": [
    "### Criando uma variável Dummy"
   ]
  },
  {
   "cell_type": "code",
   "execution_count": 137,
   "id": "c127854c-4511-4b04-94a7-c6f01fcdf972",
   "metadata": {},
   "outputs": [],
   "source": [
    "# df2 = pd.get_dummies(df, drop_first=True)\n",
    "# df2.sample(5, random_state=42)\n"
   ]
  },
  {
   "cell_type": "code",
   "execution_count": 138,
   "id": "08dca9b2-0d52-4c0c-9b9a-a34321ecc569",
   "metadata": {},
   "outputs": [
    {
     "data": {
      "text/html": [
       "<div>\n",
       "<style scoped>\n",
       "    .dataframe tbody tr th:only-of-type {\n",
       "        vertical-align: middle;\n",
       "    }\n",
       "\n",
       "    .dataframe tbody tr th {\n",
       "        vertical-align: top;\n",
       "    }\n",
       "\n",
       "    .dataframe thead th {\n",
       "        text-align: right;\n",
       "    }\n",
       "</style>\n",
       "<table border=\"1\" class=\"dataframe\">\n",
       "  <thead>\n",
       "    <tr style=\"text-align: right;\">\n",
       "      <th></th>\n",
       "      <th>Salario</th>\n",
       "      <th>Anos_Educ_Superior</th>\n",
       "      <th>Tempo_Empresa</th>\n",
       "      <th>Tempo_de_Carreira</th>\n",
       "      <th>Possui_Skill_Dados</th>\n",
       "    </tr>\n",
       "  </thead>\n",
       "  <tbody>\n",
       "    <tr>\n",
       "      <th>39</th>\n",
       "      <td>8082.2</td>\n",
       "      <td>4</td>\n",
       "      <td>20</td>\n",
       "      <td>43.252417</td>\n",
       "      <td>1</td>\n",
       "    </tr>\n",
       "    <tr>\n",
       "      <th>25</th>\n",
       "      <td>4645.9</td>\n",
       "      <td>0</td>\n",
       "      <td>5</td>\n",
       "      <td>12.640970</td>\n",
       "      <td>0</td>\n",
       "    </tr>\n",
       "    <tr>\n",
       "      <th>26</th>\n",
       "      <td>5736.9</td>\n",
       "      <td>7</td>\n",
       "      <td>0</td>\n",
       "      <td>8.222066</td>\n",
       "      <td>0</td>\n",
       "    </tr>\n",
       "    <tr>\n",
       "      <th>44</th>\n",
       "      <td>6235.4</td>\n",
       "      <td>4</td>\n",
       "      <td>6</td>\n",
       "      <td>6.578993</td>\n",
       "      <td>0</td>\n",
       "    </tr>\n",
       "    <tr>\n",
       "      <th>35</th>\n",
       "      <td>9857.1</td>\n",
       "      <td>8</td>\n",
       "      <td>12</td>\n",
       "      <td>23.448417</td>\n",
       "      <td>1</td>\n",
       "    </tr>\n",
       "  </tbody>\n",
       "</table>\n",
       "</div>"
      ],
      "text/plain": [
       "    Salario  Anos_Educ_Superior  Tempo_Empresa  Tempo_de_Carreira  \\\n",
       "39   8082.2                   4             20          43.252417   \n",
       "25   4645.9                   0              5          12.640970   \n",
       "26   5736.9                   7              0           8.222066   \n",
       "44   6235.4                   4              6           6.578993   \n",
       "35   9857.1                   8             12          23.448417   \n",
       "\n",
       "    Possui_Skill_Dados  \n",
       "39                   1  \n",
       "25                   0  \n",
       "26                   0  \n",
       "44                   0  \n",
       "35                   1  "
      ]
     },
     "execution_count": 138,
     "metadata": {},
     "output_type": "execute_result"
    }
   ],
   "source": [
    "df3 = df.copy() #copia o DF\n",
    "df3['Possui_Skill_Dados'] = np.where(df['Possui_Skill_Dados'] == 'Sim', 1, 0) #tipo um se() no excel\n",
    "df3.sample(5, random_state=42)"
   ]
  },
  {
   "cell_type": "code",
   "execution_count": 139,
   "id": "ebd4d0e6-bf08-40b9-9a5c-f1c61ae8874c",
   "metadata": {
    "scrolled": true
   },
   "outputs": [
    {
     "data": {
      "image/png": "[encoded data removed]",
      "text/plain": [
       "<Figure size 1000x800 with 2 Axes>"
      ]
     },
     "metadata": {},
     "output_type": "display_data"
    }
   ],
   "source": [
    "correlation_matrix = df3.corr()\n",
    "\n",
    "# Plotar o heatmap de correlação\n",
    "plt.figure(figsize=(10, 8))\n",
    "sns.heatmap(correlation_matrix, annot=True, cmap='RdBu_r', fmt=\".2f\", linewidths=0.5)\n",
    "plt.title('Heatmap de Correlação')\n",
    "plt.show()\n",
    "\n",
    "\n"
   ]
  },
  {
   "cell_type": "code",
   "execution_count": 140,
   "id": "d5b3c928-61fa-45ee-8837-f4a1bcd73ca7",
   "metadata": {},
   "outputs": [],
   "source": [
    "# Ajuste do modelo de regressão usando a biblioteca Statsmodels"
   ]
  },
  {
   "cell_type": "code",
   "execution_count": 141,
   "id": "03aa95a0-a98b-46bb-8b58-8e2c1fe9c4b3",
   "metadata": {},
   "outputs": [],
   "source": [
    "# Variável resposta\n",
    "y = df3['Salario']\n",
    "\n",
    "# Variáveis explicativas\n",
    "df3['intercepto'] = 1\n",
    "\n",
    "x = df3[['intercepto',\n",
    "        'Anos_Educ_Superior',\n",
    "        'Tempo_Empresa',\n",
    "        'Tempo_de_Carreira',\n",
    "       'Possui_Skill_Dados']]"
   ]
  },
  {
   "cell_type": "code",
   "execution_count": 142,
   "id": "6bb2a9df-4159-4f2a-8fe2-21bdbc48be2a",
   "metadata": {},
   "outputs": [],
   "source": [
    "# Ajustar o modelo e retornar o resultado\n",
    "modelo = sm.OLS (y,x)\n",
    "resultado = modelo.fit()"
   ]
  },
  {
   "cell_type": "code",
   "execution_count": 143,
   "id": "d918fb1d-133f-4ed1-b1e5-a18e9a9c7144",
   "metadata": {},
   "outputs": [
    {
     "name": "stdout",
     "output_type": "stream",
     "text": [
      "                            OLS Regression Results                            \n",
      "==============================================================================\n",
      "Dep. Variable:                Salario   R-squared:                       0.866\n",
      "Model:                            OLS   Adj. R-squared:                  0.853\n",
      "Method:                 Least Squares   F-statistic:                     66.10\n",
      "Date:                Wed, 10 Apr 2024   Prob (F-statistic):           2.49e-17\n",
      "Time:                        09:33:52   Log-Likelihood:                -366.46\n",
      "No. Observations:                  46   AIC:                             742.9\n",
      "Df Residuals:                      41   BIC:                             752.1\n",
      "Df Model:                           4                                         \n",
      "Covariance Type:            nonrobust                                         \n",
      "======================================================================================\n",
      "                         coef    std err          t      P>|t|      [0.025      0.975]\n",
      "--------------------------------------------------------------------------------------\n",
      "intercepto          4405.3062    235.322     18.720      0.000    3930.063    4880.549\n",
      "Anos_Educ_Superior   256.9131     51.716      4.968      0.000     152.471     361.355\n",
      "Tempo_Empresa        105.5732     43.975      2.401      0.021      16.765     194.382\n",
      "Tempo_de_Carreira    -20.0142     20.456     -0.978      0.334     -61.326      21.298\n",
      "Possui_Skill_Dados  1831.4010    305.750      5.990      0.000    1213.927    2448.875\n",
      "==============================================================================\n",
      "Omnibus:                        7.813   Durbin-Watson:                   1.769\n",
      "Prob(Omnibus):                  0.020   Jarque-Bera (JB):                7.910\n",
      "Skew:                          -0.627   Prob(JB):                       0.0192\n",
      "Kurtosis:                       4.599   Cond. No.                         86.7\n",
      "==============================================================================\n",
      "\n",
      "Notes:\n",
      "[1] Standard Errors assume that the covariance matrix of the errors is correctly specified.\n"
     ]
    }
   ],
   "source": [
    "print(resultado.summary())"
   ]
  },
  {
   "cell_type": "markdown",
   "id": "14aa565c-c7ed-40a9-99de-bfa607e3017f",
   "metadata": {},
   "source": [
    "Como identificamos um problema de multicolinearidade, e o coeficiente da variável 'Tempo_de_Carreira' apresentou-se estaticamente igual a zero, vamo exclui-la do modelo.\n",
    "\n",
    "As informações contidas na variável 'Tempo_de_Carreira' já estão representadas na variável 'Tempo_Empresa'. Podemos observar nisso no gráfico de correlação, a correlação entre as variáveis é de 0.94%.        "
   ]
  },
  {
   "cell_type": "code",
   "execution_count": 144,
   "id": "c5a69e88-b90f-4e6d-941c-2be4458219bf",
   "metadata": {},
   "outputs": [
    {
     "name": "stdout",
     "output_type": "stream",
     "text": [
      "                            OLS Regression Results                            \n",
      "==============================================================================\n",
      "Dep. Variable:                Salario   R-squared:                       0.863\n",
      "Model:                            OLS   Adj. R-squared:                  0.853\n",
      "Method:                 Least Squares   F-statistic:                     87.90\n",
      "Date:                Wed, 10 Apr 2024   Prob (F-statistic):           3.87e-18\n",
      "Time:                        09:33:52   Log-Likelihood:                -366.99\n",
      "No. Observations:                  46   AIC:                             742.0\n",
      "Df Residuals:                      42   BIC:                             749.3\n",
      "Df Model:                           3                                         \n",
      "Covariance Type:            nonrobust                                         \n",
      "======================================================================================\n",
      "                         coef    std err          t      P>|t|      [0.025      0.975]\n",
      "--------------------------------------------------------------------------------------\n",
      "intercepto          4412.5391    235.086     18.770      0.000    3938.115    4886.963\n",
      "Anos_Educ_Superior   247.8857     50.860      4.874      0.000     145.246     350.526\n",
      "Tempo_Empresa         67.2629     20.004      3.362      0.002      26.893     107.633\n",
      "Possui_Skill_Dados  1861.7774    304.015      6.124      0.000    1248.251    2475.304\n",
      "==============================================================================\n",
      "Omnibus:                        7.711   Durbin-Watson:                   1.812\n",
      "Prob(Omnibus):                  0.021   Jarque-Bera (JB):                8.524\n",
      "Skew:                          -0.555   Prob(JB):                       0.0141\n",
      "Kurtosis:                       4.793   Cond. No.                         40.2\n",
      "==============================================================================\n",
      "\n",
      "Notes:\n",
      "[1] Standard Errors assume that the covariance matrix of the errors is correctly specified.\n"
     ]
    }
   ],
   "source": [
    "x2 = df3[['intercepto',\n",
    "        'Anos_Educ_Superior',\n",
    "        'Tempo_Empresa',\n",
    "        'Possui_Skill_Dados']]\n",
    "\n",
    "modelo2 = sm.OLS (y,x2)\n",
    "resultado2 = modelo2.fit()\n",
    "print(resultado2.summary())"
   ]
  },
  {
   "cell_type": "markdown",
   "id": "db7ed836-3bd4-4d52-b0f8-d8f2d8e4fffb",
   "metadata": {},
   "source": [
    "## Diagnóstico do modelo: Análise dos resíduos"
   ]
  },
  {
   "cell_type": "code",
   "execution_count": 145,
   "id": "cc0a4ef8-6140-48ee-91b2-304df899702b",
   "metadata": {},
   "outputs": [],
   "source": [
    "def grafico_residuos(resultado2):\n",
    "    resid_graf = sns.scatterplot(x=list(range(0,len(resultado2.resid_pearson))),\n",
    "                                 y=resultado2.resid_pearson.tolist())\n",
    "    # Localizando o valor mínimo dos resíduos\n",
    "    r_aux = resultado2.resid_pearson.tolist()\n",
    "    r_aux.append(-3)\n",
    "    ymin = min(r_aux) * 1.1\n",
    "\n",
    "    # Localizando o valor máximo dos resíduos\n",
    "    r_aux = resultado2.resid_pearson.tolist()\n",
    "    r_aux.append(+3)\n",
    "    ymax = max(r_aux) * 1.1\n",
    "\n",
    "    resid_graf.set(ylim=(ymin,ymax))\n",
    "\n",
    "    ax1 = resid_graf.axes\n",
    "    ax1.axhline (0, color='black', ls='--')\n",
    "    ax1.axhline (-2, color='black', ls='--')\n",
    "    ax1.axhline (+2, color='black', ls='--')\n",
    "    plt.show()"
   ]
  },
  {
   "cell_type": "code",
   "execution_count": 146,
   "id": "51e20748-9a27-468a-85e8-a91ef1729554",
   "metadata": {},
   "outputs": [
    {
     "data": {
      "image/png": "[encoded data removed]",
      "text/plain": [
       "<Figure size 640x480 with 1 Axes>"
      ]
     },
     "metadata": {},
     "output_type": "display_data"
    }
   ],
   "source": [
    "grafico_residuos(resultado2)"
   ]
  },
  {
   "cell_type": "code",
   "execution_count": 147,
   "id": "30e02b7e-225c-4b44-8365-3d1ae47b5aff",
   "metadata": {},
   "outputs": [
    {
     "data": {
      "text/plain": [
       "2.3000000000000003"
      ]
     },
     "execution_count": 147,
     "metadata": {},
     "output_type": "execute_result"
    }
   ],
   "source": [
    "#nº de pontos que podem ficar nos 5% fora\n",
    "len(df3.index)*0.05"
   ]
  },
  {
   "cell_type": "markdown",
   "id": "92ceb330-faa2-4bf9-a0e3-2542abf1185d",
   "metadata": {},
   "source": [
    "# Normalidade dos resíduos"
   ]
  },
  {
   "cell_type": "code",
   "execution_count": 148,
   "id": "f7dff63e-5934-4c1c-a6bd-ba3008af2d37",
   "metadata": {},
   "outputs": [],
   "source": [
    "import warnings\n",
    "warnings.filterwarnings(\"ignore\", category=FutureWarning)\n",
    "warnings.filterwarnings(\"ignore\", category=UserWarning)"
   ]
  },
  {
   "cell_type": "code",
   "execution_count": 149,
   "id": "a8ed723d-019f-4524-8d58-374f44d2b73f",
   "metadata": {},
   "outputs": [
    {
     "data": {
      "image/png": "[encoded data removed]",
      "text/plain": [
       "<Figure size 640x480 with 1 Axes>"
      ]
     },
     "metadata": {},
     "output_type": "display_data"
    }
   ],
   "source": [
    "# Construção de histograma para avaliar a distribuição dos resíduos\n",
    "sns.distplot (resultado2.resid_pearson);"
   ]
  },
  {
   "cell_type": "markdown",
   "id": "85a03290-3126-427d-8412-b0dbc94fd153",
   "metadata": {},
   "source": [
    "Parece uma distribuição normal, porém vamos rodar um teste de hipóteses para verificar."
   ]
  },
  {
   "cell_type": "code",
   "execution_count": 150,
   "id": "db42f332-c8b2-4714-a22b-689d363e3ff6",
   "metadata": {},
   "outputs": [
    {
     "name": "stdout",
     "output_type": "stream",
     "text": [
      "Estatística=0.951, p-valor= 0.054\n",
      "\n"
     ]
    }
   ],
   "source": [
    "# Realização do teste de hipótese para avaliar a Normalidade\n",
    "from scipy.stats import shapiro\n",
    "normalidade = shapiro(resultado2.resid_pearson)\n",
    "print('Estatística=%.3f, p-valor= %.3f\\n' % (normalidade.statistic, normalidade.pvalue))\n"
   ]
  },
  {
   "cell_type": "markdown",
   "id": "e4a3469b-e8e5-49af-9422-f5e178ab103d",
   "metadata": {},
   "source": [
    "\r\n",
    "H0 = distribuição normal.\r\n",
    "\r\n",
    "O p-valor é de 5,4%, o que é maior que 5%. Isso indica que a hipótese nula é plausível. Portanto, não rejeitamos H0, o que sugere que temos uma distribuição normal."
   ]
  },
  {
   "cell_type": "markdown",
   "id": "642f1545-4935-40e3-a2ed-d083e37521fb",
   "metadata": {},
   "source": [
    "## Homocedasticidade dos resíduos"
   ]
  },
  {
   "cell_type": "code",
   "execution_count": 151,
   "id": "689ea74e-5232-46a0-9bcc-932df227b9c8",
   "metadata": {},
   "outputs": [],
   "source": [
    "from statsmodels.stats.diagnostic import het_white\n",
    "\n",
    "# estamos criando uma lista chamada `labels` que contém rótulos para as estatísticas que serão calculadas.\n",
    "labels = ['Lm Statistic', 'LM-Test p-value', 'F-Statistic', 'F-Test p-value']\n"
   ]
  },
  {
   "cell_type": "code",
   "execution_count": 152,
   "id": "a3dd5027-bd70-497d-b8f9-5dfa80d4053c",
   "metadata": {},
   "outputs": [
    {
     "name": "stdout",
     "output_type": "stream",
     "text": [
      "{'Lm Statistic': 11.715298949479552, 'LM-Test p-value': 0.16436570335976225, 'F-Statistic': 1.5803917193707135, 'F-Test p-value': 0.16425024727281182}\n"
     ]
    }
   ],
   "source": [
    "# Esta linha calcula o teste de heterocedasticidade de White. O teste de White é uma maneira de verificar se a variância dos erros de um modelo de regressão é constante, o que é uma suposição comum em muitos modelos estatísticos. Ele recebe como argumentos os resíduos padronizados (`resultado2.resid_pearson`) e as variáveis exógenas do modelo \n",
    "white_test = het_white(resultado2.resid_pearson,\n",
    "                       resultado2.model.exog)\n",
    "#Então, o código cria rótulos para as estatísticas calculadas e executa o teste de heterocedasticidade de White, mostrando os resultados em um formato mais legível usando um dicionário.\n",
    "print(dict(zip(labels, white_test)))"
   ]
  },
  {
   "cell_type": "markdown",
   "id": "2ce441a5-952e-4505-abe3-d4ded0efc943",
   "metadata": {},
   "source": [
    "Esses códigos fornecem os resultados do teste de heterocedasticidade de White, que é uma maneira de verificar se a variância dos erros de um modelo de regressão é constante. Aqui está o que cada parte significa:\r\n",
    "\r\n",
    "- `'Lm Statistic': 11.715298949479552`: Este é o valor da estatística LM (Lagrange Multiplier), que é uma medida da presença de heterocedasticidade nos resíduos do modelo. Quanto maior o valor, maior a evidência de heterocedasticidade.\r\n",
    "\r\n",
    "- `'LM-Test p-value': 0.16436570335976225`: Este é o valor-p associado ao teste LM. Ele indica a probabilidade de obter um valor da estatística LM igual ou mais extremo do que o observado, assumindo que a hipótese nula (de homocedasticidade, ou seja, de que a variância dos erros é constante) é verdadeira. Um valor-p maior sugere que não há evidência significativa contra a hipótese nula.\r\n",
    "\r\n",
    "- `'F-Statistic': 1.5803917193707135`: Este é o valor da estatística F, que também é usada para testar a heterocedasticidade. É uma medida da relação entre as variâncias dos resíduos em diferentes grupos.\r\n",
    "\r\n",
    "- `'F-Test p-value': 0.16425024727281182`: Este é o valor-p associado ao teste F. Assim como no teste LM, indica a probabilidade de obter um valor da estatística F igual ou mais extremo do que o observado, assumindo que a hipótese nula (de homocedasticidade) é verdadeira. Um valor-p maior sugere que não há evidência significativa contra a hipótese nula.\r\n",
    "\r\n",
    "Portanto, esses valores e seus valores-p associados fornecem informações sobre a presença de heterocedasticidade nos resíduos do modelo. Valores-p maiores indicam uma menor evidência contra a hipótese nula de homoceda\n",
    "\n",
    "H0 = são homocedasticos (valores são constantes), não há evidências suficientes para rejeitar a hipótese nula.sticidade.\n"
   ]
  },
  {
   "cell_type": "markdown",
   "id": "404c5ffa-a06a-42ad-a78a-8597125ee45a",
   "metadata": {},
   "source": [
    "## Equação do modelo"
   ]
  },
  {
   "cell_type": "markdown",
   "id": "eed079b8-290c-4fb5-923c-be6acf492700",
   "metadata": {},
   "source": [
    "  \"Salário = $\\\\beta_0$ + $\\\\beta_1$ x Anos Educação Superior + $\\\\beta_2$ x Tempo Empresa + $\\\\beta_3$ x Possui Skill Dados (Sim)\""
   ]
  },
  {
   "cell_type": "markdown",
   "id": "496b2074-947e-470e-8896-a278a4fb8777",
   "metadata": {},
   "source": [
    "## Interpretação do modelo:"
   ]
  },
  {
   "cell_type": "markdown",
   "id": "c499d72d-6dff-4eca-8d63-a66002ff35b2",
   "metadata": {},
   "source": [
    " **Intercepto:** Salário médio de um colaborador recém chegado na empresa: `R$ 4.412,53`.\n",
    " \n",
    " **Anos de educação profissional:** Cada ano adicional de educação superior, mantendo tempo de empresa constante, gera um aumento médio de `R$247,88`.\n",
    "\n",
    " **Tempo de empresa:** Cada ano adicional de empresa, mantendo os anos de educação superior constante, gera um aumento médio de `R$67.26`.\n",
    "\n",
    " **Possui Skill dados:** Se possuir ou adquirir Skills de dados, mantendo os anos de educação superior e tempo de empresa constantes, gera um aumento médio de `R$1.861.77`.\n"
   ]
  },
  {
   "cell_type": "code",
   "execution_count": null,
   "id": "0df0fd09-a46a-4994-8bbd-0870116b2012",
   "metadata": {},
   "outputs": [],
   "source": []
  }
 ],
 "metadata": {
  "kernelspec": {
   "display_name": "Python 3 (ipykernel)",
   "language": "python",
   "name": "python3"
  },
  "language_info": {
   "codemirror_mode": {
    "name": "ipython",
    "version": 3
   },
   "file_extension": ".py",
   "mimetype": "text/x-python",
   "name": "python",
   "nbconvert_exporter": "python",
   "pygments_lexer": "ipython3",
   "version": "3.11.7"
  }
 },
 "nbformat": 4,
 "nbformat_minor": 5
}
